{
 "cells": [
  {
   "cell_type": "code",
   "execution_count": 18,
   "id": "43927360",
   "metadata": {},
   "outputs": [],
   "source": [
    "import pandas as pd\n",
    "from sklearn.model_selection import train_test_split\n",
    "from sklearn.preprocessing import LabelEncoder, StandardScaler\n",
    "from sklearn.ensemble import RandomForestClassifier\n",
    "from sklearn.metrics import classification_report, confusion_matrix, accuracy_score\n",
    "import seaborn as sns\n",
    "import matplotlib.pyplot as plt\n",
    "from sklearn.impute import SimpleImputer"
   ]
  },
  {
   "cell_type": "code",
   "execution_count": 2,
   "id": "34de129c",
   "metadata": {},
   "outputs": [
    {
     "name": "stderr",
     "output_type": "stream",
     "text": [
      "C:\\Users\\gokul\\AppData\\Local\\Temp\\ipykernel_15588\\1763893204.py:1: DtypeWarning: Columns (18,21) have mixed types. Specify dtype option on import or set low_memory=False.\n",
      "  df=pd.read_csv(\"STRIKE_REPORTS.csv\")\n"
     ]
    }
   ],
   "source": [
    "df=pd.read_csv(\"STRIKE_REPORTS.csv\")"
   ]
  },
  {
   "cell_type": "code",
   "execution_count": 3,
   "id": "a5eed8ac",
   "metadata": {},
   "outputs": [
    {
     "name": "stdout",
     "output_type": "stream",
     "text": [
      "   INDEX_NR INCIDENT_DATE  INCIDENT_MONTH  INCIDENT_YEAR TIME TIME_OF_DAY  \\\n",
      "0    608242     6/22/1996               6           1996  NaN         NaN   \n",
      "1    608243     6/26/1996               6           1996  NaN         NaN   \n",
      "2    608244      7/1/1996               7           1996  NaN         NaN   \n",
      "3    608245      7/1/1996               7           1996  NaN         NaN   \n",
      "4    608246      7/1/1996               7           1996  NaN         NaN   \n",
      "\n",
      "  AIRPORT_ID                      AIRPORT  LATITUDE  LONGITUDE  ...    SIZE  \\\n",
      "0       KSMF              SACRAMENTO INTL  38.69542 -121.59077  ...  Medium   \n",
      "1       KDEN          DENVER INTL AIRPORT  39.85841 -104.66700  ...  Medium   \n",
      "2       KOMA              EPPLEY AIRFIELD  41.30252  -95.89417  ...  Medium   \n",
      "3       KIAD  WASHINGTON DULLES INTL ARPT  38.94453  -77.45581  ...  Medium   \n",
      "4       KLGA              LA GUARDIA ARPT  40.77724  -73.87261  ...  Medium   \n",
      "\n",
      "  NR_INJURIES NR_FATALITIES                COMMENTS REPORTED_NAME  \\\n",
      "0         NaN           NaN  /Legacy Record=100001/      REDACTED   \n",
      "1         NaN           NaN  /Legacy Record=100002/      REDACTED   \n",
      "2         NaN           NaN  /Legacy Record=100003/      REDACTED   \n",
      "3         NaN           NaN  /Legacy Record=100004/      REDACTED   \n",
      "4         NaN           NaN  /Legacy Record=100005/      REDACTED   \n",
      "\n",
      "  REPORTED_TITLE                SOURCE                    PERSON     LUPDATE  \\\n",
      "0       REDACTED  Air Transport Report  Air Transport Operations  12/20/2007   \n",
      "1       REDACTED  Air Transport Report  Air Transport Operations  12/20/2007   \n",
      "2       REDACTED  Air Transport Report  Air Transport Operations  12/20/2007   \n",
      "3       REDACTED  Air Transport Report  Air Transport Operations  12/20/2007   \n",
      "4       REDACTED  Air Transport Report  Air Transport Operations  12/20/2007   \n",
      "\n",
      "  TRANSFER  \n",
      "0    False  \n",
      "1    False  \n",
      "2    False  \n",
      "3    False  \n",
      "4    False  \n",
      "\n",
      "[5 rows x 100 columns]\n"
     ]
    }
   ],
   "source": [
    "print(df.head())"
   ]
  },
  {
   "cell_type": "code",
   "execution_count": 4,
   "id": "9606b63d",
   "metadata": {},
   "outputs": [
    {
     "name": "stdout",
     "output_type": "stream",
     "text": [
      "<class 'pandas.core.frame.DataFrame'>\n",
      "RangeIndex: 288810 entries, 0 to 288809\n",
      "Data columns (total 100 columns):\n",
      " #   Column                 Non-Null Count   Dtype  \n",
      "---  ------                 --------------   -----  \n",
      " 0   INDEX_NR               288810 non-null  int64  \n",
      " 1   INCIDENT_DATE          288810 non-null  object \n",
      " 2   INCIDENT_MONTH         288810 non-null  int64  \n",
      " 3   INCIDENT_YEAR          288810 non-null  int64  \n",
      " 4   TIME                   163633 non-null  object \n",
      " 5   TIME_OF_DAY            166394 non-null  object \n",
      " 6   AIRPORT_ID             288804 non-null  object \n",
      " 7   AIRPORT                288810 non-null  object \n",
      " 8   LATITUDE               253309 non-null  float64\n",
      " 9   LONGITUDE              253308 non-null  float64\n",
      " 10  RUNWAY                 218852 non-null  object \n",
      " 11  STATE                  253309 non-null  object \n",
      " 12  FAAREGION              253309 non-null  object \n",
      " 13  LOCATION               33939 non-null   object \n",
      " 14  ENROUTE_STATE          5037 non-null    object \n",
      " 15  OPID                   288784 non-null  object \n",
      " 16  OPERATOR               288810 non-null  object \n",
      " 17  REG                    172543 non-null  object \n",
      " 18  FLT                    129249 non-null  object \n",
      " 19  AIRCRAFT               288810 non-null  object \n",
      " 20  AMA                    205475 non-null  object \n",
      " 21  AMO                    190159 non-null  object \n",
      " 22  EMA                    192151 non-null  float64\n",
      " 23  EMO                    186756 non-null  float64\n",
      " 24  AC_CLASS               206893 non-null  object \n",
      " 25  AC_MASS                206490 non-null  float64\n",
      " 26  TYPE_ENG               206044 non-null  object \n",
      " 27  NUM_ENGS               206259 non-null  float64\n",
      " 28  ENG_1_POS              205481 non-null  float64\n",
      " 29  ENG_2_POS              191612 non-null  float64\n",
      " 30  ENG_3_POS              13080 non-null   float64\n",
      " 31  ENG_4_POS              3290 non-null    float64\n",
      " 32  PHASE_OF_FLIGHT        177843 non-null  object \n",
      " 33  HEIGHT                 148807 non-null  float64\n",
      " 34  SPEED                  94237 non-null   float64\n",
      " 35  DISTANCE               188234 non-null  float64\n",
      " 36  SKY                    139382 non-null  object \n",
      " 37  PRECIPITATION          11175 non-null   object \n",
      " 38  AOS                    14196 non-null   float64\n",
      " 39  COST_REPAIRS           5040 non-null    object \n",
      " 40  COST_OTHER             4760 non-null    object \n",
      " 41  COST_REPAIRS_INFL_ADJ  5040 non-null    object \n",
      " 42  COST_OTHER_INFL_ADJ    4760 non-null    object \n",
      " 43  INGESTED_OTHER         288810 non-null  bool   \n",
      " 44  INDICATED_DAMAGE       288810 non-null  bool   \n",
      " 45  DAMAGE_LEVEL           187315 non-null  object \n",
      " 46  STR_RAD                288810 non-null  bool   \n",
      " 47  DAM_RAD                288810 non-null  bool   \n",
      " 48  STR_WINDSHLD           288810 non-null  bool   \n",
      " 49  DAM_WINDSHLD           288810 non-null  bool   \n",
      " 50  STR_NOSE               288810 non-null  bool   \n",
      " 51  DAM_NOSE               288810 non-null  bool   \n",
      " 52  STR_ENG1               288810 non-null  bool   \n",
      " 53  DAM_ENG1               288810 non-null  bool   \n",
      " 54  ING_ENG1               288810 non-null  bool   \n",
      " 55  STR_ENG2               288810 non-null  bool   \n",
      " 56  DAM_ENG2               288810 non-null  bool   \n",
      " 57  ING_ENG2               288810 non-null  bool   \n",
      " 58  STR_ENG3               288810 non-null  bool   \n",
      " 59  DAM_ENG3               288810 non-null  bool   \n",
      " 60  ING_ENG3               288810 non-null  bool   \n",
      " 61  STR_ENG4               288810 non-null  bool   \n",
      " 62  DAM_ENG4               288810 non-null  bool   \n",
      " 63  ING_ENG4               288810 non-null  bool   \n",
      " 64  STR_PROP               288810 non-null  bool   \n",
      " 65  DAM_PROP               288810 non-null  bool   \n",
      " 66  STR_WING_ROT           288810 non-null  bool   \n",
      " 67  DAM_WING_ROT           288810 non-null  bool   \n",
      " 68  STR_FUSE               288810 non-null  bool   \n",
      " 69  DAM_FUSE               288810 non-null  bool   \n",
      " 70  STR_LG                 288810 non-null  bool   \n",
      " 71  DAM_LG                 288810 non-null  bool   \n",
      " 72  STR_TAIL               288810 non-null  bool   \n",
      " 73  DAM_TAIL               288810 non-null  bool   \n",
      " 74  STR_LGHTS              288810 non-null  bool   \n",
      " 75  DAM_LGHTS              288810 non-null  bool   \n",
      " 76  STR_OTHER              288810 non-null  bool   \n",
      " 77  DAM_OTHER              288810 non-null  bool   \n",
      " 78  OTHER_SPECIFY          38462 non-null   object \n",
      " 79  EFFECT                 13718 non-null   object \n",
      " 80  EFFECT_OTHER           2221 non-null    object \n",
      " 81  BIRD_BAND_NUMBER       390 non-null     float64\n",
      " 82  SPECIES_ID             288806 non-null  object \n",
      " 83  SPECIES                288809 non-null  object \n",
      " 84  REMARKS                264305 non-null  object \n",
      " 85  REMAINS_COLLECTED      288810 non-null  bool   \n",
      " 86  REMAINS_SENT           288810 non-null  bool   \n",
      " 87  WARNED                 288810 non-null  object \n",
      " 88  NUM_SEEN               94773 non-null   object \n",
      " 89  NUM_STRUCK             288174 non-null  object \n",
      " 90  SIZE                   263538 non-null  object \n",
      " 91  NR_INJURIES            276 non-null     float64\n",
      " 92  NR_FATALITIES          24 non-null      float64\n",
      " 93  COMMENTS               218834 non-null  object \n",
      " 94  REPORTED_NAME          288810 non-null  object \n",
      " 95  REPORTED_TITLE         288810 non-null  object \n",
      " 96  SOURCE                 288810 non-null  object \n",
      " 97  PERSON                 267676 non-null  object \n",
      " 98  LUPDATE                288810 non-null  object \n",
      " 99  TRANSFER               288810 non-null  bool   \n",
      "dtypes: bool(37), float64(17), int64(3), object(43)\n",
      "memory usage: 149.0+ MB\n",
      "None\n"
     ]
    }
   ],
   "source": [
    "print(df.info())"
   ]
  },
  {
   "cell_type": "code",
   "execution_count": 5,
   "id": "31ef4e0e",
   "metadata": {},
   "outputs": [
    {
     "name": "stdout",
     "output_type": "stream",
     "text": [
      "INDEX_NR               0\n",
      "INCIDENT_DATE          0\n",
      "INCIDENT_MONTH         0\n",
      "INCIDENT_YEAR          0\n",
      "TIME              125177\n",
      "                   ...  \n",
      "REPORTED_TITLE         0\n",
      "SOURCE                 0\n",
      "PERSON             21134\n",
      "LUPDATE                0\n",
      "TRANSFER               0\n",
      "Length: 100, dtype: int64\n"
     ]
    }
   ],
   "source": [
    "print(df.isnull().sum())"
   ]
  },
  {
   "cell_type": "code",
   "execution_count": 7,
   "id": "3e42d6cf",
   "metadata": {},
   "outputs": [],
   "source": [
    "selected_columns=['INCIDENT_MONTH','INCIDENT_YEAR','LATITUDE','LONGITUDE','SIZE','NR_INJURIES','NR_FATALITIES']\n",
    "df=df[selected_columns]"
   ]
  },
  {
   "cell_type": "code",
   "execution_count": 8,
   "id": "84bcb9eb",
   "metadata": {},
   "outputs": [
    {
     "name": "stderr",
     "output_type": "stream",
     "text": [
      "C:\\Users\\gokul\\AppData\\Local\\Temp\\ipykernel_15588\\4236405531.py:1: SettingWithCopyWarning: \n",
      "A value is trying to be set on a copy of a slice from a DataFrame\n",
      "\n",
      "See the caveats in the documentation: https://pandas.pydata.org/pandas-docs/stable/user_guide/indexing.html#returning-a-view-versus-a-copy\n",
      "  df['NR_INJURIES'].fillna(0,inplace=True)\n",
      "C:\\Users\\gokul\\AppData\\Local\\Temp\\ipykernel_15588\\4236405531.py:2: SettingWithCopyWarning: \n",
      "A value is trying to be set on a copy of a slice from a DataFrame\n",
      "\n",
      "See the caveats in the documentation: https://pandas.pydata.org/pandas-docs/stable/user_guide/indexing.html#returning-a-view-versus-a-copy\n",
      "  df['NR_FATALITIES'].fillna(0,inplace=True)\n"
     ]
    }
   ],
   "source": [
    "df['NR_INJURIES'].fillna(0,inplace=True)\n",
    "df['NR_FATALITIES'].fillna(0,inplace=True)"
   ]
  },
  {
   "cell_type": "code",
   "execution_count": 9,
   "id": "ebbf9de4",
   "metadata": {},
   "outputs": [
    {
     "name": "stderr",
     "output_type": "stream",
     "text": [
      "C:\\Users\\gokul\\AppData\\Local\\Temp\\ipykernel_15588\\2195903513.py:1: SettingWithCopyWarning: \n",
      "A value is trying to be set on a copy of a slice from a DataFrame.\n",
      "Try using .loc[row_indexer,col_indexer] = value instead\n",
      "\n",
      "See the caveats in the documentation: https://pandas.pydata.org/pandas-docs/stable/user_guide/indexing.html#returning-a-view-versus-a-copy\n",
      "  df['RISK_LEVEL']=df.apply(lambda x:'High'\n"
     ]
    }
   ],
   "source": [
    "df['RISK_LEVEL']=df.apply(lambda x:'High' \n",
    "                          if x['NR_FATALITIES'] > 0 \n",
    "                            else 'Medium' \n",
    "                          if x['NR_INJURIES'] > 0 \n",
    "                            else 'Low', axis=1)"
   ]
  },
  {
   "cell_type": "code",
   "execution_count": 10,
   "id": "e86c1ff7",
   "metadata": {},
   "outputs": [
    {
     "name": "stderr",
     "output_type": "stream",
     "text": [
      "C:\\Users\\gokul\\AppData\\Local\\Temp\\ipykernel_15588\\2468151759.py:2: SettingWithCopyWarning: \n",
      "A value is trying to be set on a copy of a slice from a DataFrame.\n",
      "Try using .loc[row_indexer,col_indexer] = value instead\n",
      "\n",
      "See the caveats in the documentation: https://pandas.pydata.org/pandas-docs/stable/user_guide/indexing.html#returning-a-view-versus-a-copy\n",
      "  df['SIZE']=encoder.fit_transform(df['SIZE'])\n"
     ]
    }
   ],
   "source": [
    "encoder=LabelEncoder()\n",
    "df['SIZE']=encoder.fit_transform(df['SIZE'])"
   ]
  },
  {
   "cell_type": "code",
   "execution_count": 11,
   "id": "7db7e777",
   "metadata": {},
   "outputs": [],
   "source": [
    "X=df.drop(['RISK_LEVEL'],axis=1)\n",
    "y=df['RISK_LEVEL']"
   ]
  },
  {
   "cell_type": "code",
   "execution_count": 12,
   "id": "9aa38b60",
   "metadata": {},
   "outputs": [],
   "source": [
    "X_train,X_test,y_train,y_test=train_test_split(X,y,test_size=0.2,random_state=42)"
   ]
  },
  {
   "cell_type": "code",
   "execution_count": 19,
   "id": "dde27e28",
   "metadata": {},
   "outputs": [],
   "source": [
    "imputer=SimpleImputer(strategy='mean')\n",
    "X_train=imputer.fit_transform(X_train)\n",
    "X_test=imputer.transform(X_test)"
   ]
  },
  {
   "cell_type": "code",
   "execution_count": 20,
   "id": "9ce82e65",
   "metadata": {},
   "outputs": [],
   "source": [
    "scaler=StandardScaler()"
   ]
  },
  {
   "cell_type": "code",
   "execution_count": 21,
   "id": "f43e5ce8",
   "metadata": {},
   "outputs": [],
   "source": [
    "X_train=scaler.fit_transform(X_train)\n",
    "X_test=scaler.transform(X_test)"
   ]
  },
  {
   "cell_type": "code",
   "execution_count": 22,
   "id": "f0e824ff",
   "metadata": {},
   "outputs": [
    {
     "data": {
      "text/html": [
       "<style>#sk-container-id-1 {color: black;}#sk-container-id-1 pre{padding: 0;}#sk-container-id-1 div.sk-toggleable {background-color: white;}#sk-container-id-1 label.sk-toggleable__label {cursor: pointer;display: block;width: 100%;margin-bottom: 0;padding: 0.3em;box-sizing: border-box;text-align: center;}#sk-container-id-1 label.sk-toggleable__label-arrow:before {content: \"▸\";float: left;margin-right: 0.25em;color: #696969;}#sk-container-id-1 label.sk-toggleable__label-arrow:hover:before {color: black;}#sk-container-id-1 div.sk-estimator:hover label.sk-toggleable__label-arrow:before {color: black;}#sk-container-id-1 div.sk-toggleable__content {max-height: 0;max-width: 0;overflow: hidden;text-align: left;background-color: #f0f8ff;}#sk-container-id-1 div.sk-toggleable__content pre {margin: 0.2em;color: black;border-radius: 0.25em;background-color: #f0f8ff;}#sk-container-id-1 input.sk-toggleable__control:checked~div.sk-toggleable__content {max-height: 200px;max-width: 100%;overflow: auto;}#sk-container-id-1 input.sk-toggleable__control:checked~label.sk-toggleable__label-arrow:before {content: \"▾\";}#sk-container-id-1 div.sk-estimator input.sk-toggleable__control:checked~label.sk-toggleable__label {background-color: #d4ebff;}#sk-container-id-1 div.sk-label input.sk-toggleable__control:checked~label.sk-toggleable__label {background-color: #d4ebff;}#sk-container-id-1 input.sk-hidden--visually {border: 0;clip: rect(1px 1px 1px 1px);clip: rect(1px, 1px, 1px, 1px);height: 1px;margin: -1px;overflow: hidden;padding: 0;position: absolute;width: 1px;}#sk-container-id-1 div.sk-estimator {font-family: monospace;background-color: #f0f8ff;border: 1px dotted black;border-radius: 0.25em;box-sizing: border-box;margin-bottom: 0.5em;}#sk-container-id-1 div.sk-estimator:hover {background-color: #d4ebff;}#sk-container-id-1 div.sk-parallel-item::after {content: \"\";width: 100%;border-bottom: 1px solid gray;flex-grow: 1;}#sk-container-id-1 div.sk-label:hover label.sk-toggleable__label {background-color: #d4ebff;}#sk-container-id-1 div.sk-serial::before {content: \"\";position: absolute;border-left: 1px solid gray;box-sizing: border-box;top: 0;bottom: 0;left: 50%;z-index: 0;}#sk-container-id-1 div.sk-serial {display: flex;flex-direction: column;align-items: center;background-color: white;padding-right: 0.2em;padding-left: 0.2em;position: relative;}#sk-container-id-1 div.sk-item {position: relative;z-index: 1;}#sk-container-id-1 div.sk-parallel {display: flex;align-items: stretch;justify-content: center;background-color: white;position: relative;}#sk-container-id-1 div.sk-item::before, #sk-container-id-1 div.sk-parallel-item::before {content: \"\";position: absolute;border-left: 1px solid gray;box-sizing: border-box;top: 0;bottom: 0;left: 50%;z-index: -1;}#sk-container-id-1 div.sk-parallel-item {display: flex;flex-direction: column;z-index: 1;position: relative;background-color: white;}#sk-container-id-1 div.sk-parallel-item:first-child::after {align-self: flex-end;width: 50%;}#sk-container-id-1 div.sk-parallel-item:last-child::after {align-self: flex-start;width: 50%;}#sk-container-id-1 div.sk-parallel-item:only-child::after {width: 0;}#sk-container-id-1 div.sk-dashed-wrapped {border: 1px dashed gray;margin: 0 0.4em 0.5em 0.4em;box-sizing: border-box;padding-bottom: 0.4em;background-color: white;}#sk-container-id-1 div.sk-label label {font-family: monospace;font-weight: bold;display: inline-block;line-height: 1.2em;}#sk-container-id-1 div.sk-label-container {text-align: center;}#sk-container-id-1 div.sk-container {/* jupyter's `normalize.less` sets `[hidden] { display: none; }` but bootstrap.min.css set `[hidden] { display: none !important; }` so we also need the `!important` here to be able to override the default hidden behavior on the sphinx rendered scikit-learn.org. See: https://github.com/scikit-learn/scikit-learn/issues/21755 */display: inline-block !important;position: relative;}#sk-container-id-1 div.sk-text-repr-fallback {display: none;}</style><div id=\"sk-container-id-1\" class=\"sk-top-container\"><div class=\"sk-text-repr-fallback\"><pre>RandomForestClassifier(random_state=42)</pre><b>In a Jupyter environment, please rerun this cell to show the HTML representation or trust the notebook. <br />On GitHub, the HTML representation is unable to render, please try loading this page with nbviewer.org.</b></div><div class=\"sk-container\" hidden><div class=\"sk-item\"><div class=\"sk-estimator sk-toggleable\"><input class=\"sk-toggleable__control sk-hidden--visually\" id=\"sk-estimator-id-1\" type=\"checkbox\" checked><label for=\"sk-estimator-id-1\" class=\"sk-toggleable__label sk-toggleable__label-arrow\">RandomForestClassifier</label><div class=\"sk-toggleable__content\"><pre>RandomForestClassifier(random_state=42)</pre></div></div></div></div></div>"
      ],
      "text/plain": [
       "RandomForestClassifier(random_state=42)"
      ]
     },
     "execution_count": 22,
     "metadata": {},
     "output_type": "execute_result"
    }
   ],
   "source": [
    "model=RandomForestClassifier(n_estimators=100,random_state=42)\n",
    "model.fit(X_train,y_train)"
   ]
  },
  {
   "cell_type": "code",
   "execution_count": 23,
   "id": "d00e5e25",
   "metadata": {},
   "outputs": [],
   "source": [
    "y_pred=model.predict(X_test)"
   ]
  },
  {
   "cell_type": "code",
   "execution_count": 24,
   "id": "f0b22a6f",
   "metadata": {},
   "outputs": [
    {
     "ename": "SyntaxError",
     "evalue": "invalid syntax. Perhaps you forgot a comma? (533267647.py, line 2)",
     "output_type": "error",
     "traceback": [
      "\u001b[1;36m  Cell \u001b[1;32mIn[24], line 2\u001b[1;36m\u001b[0m\n\u001b[1;33m    print(\"Model Accuracy:\" accuracy)\u001b[0m\n\u001b[1;37m          ^\u001b[0m\n\u001b[1;31mSyntaxError\u001b[0m\u001b[1;31m:\u001b[0m invalid syntax. Perhaps you forgot a comma?\n"
     ]
    }
   ],
   "source": [
    "accuracy=accuracy_score(y_test,y_pred)\n",
    "print(\"Model Accuracy:\" accuracy)"
   ]
  },
  {
   "cell_type": "code",
   "execution_count": null,
   "id": "eeca2072",
   "metadata": {},
   "outputs": [],
   "source": []
  }
 ],
 "metadata": {
  "kernelspec": {
   "display_name": "Python 3 (ipykernel)",
   "language": "python",
   "name": "python3"
  },
  "language_info": {
   "codemirror_mode": {
    "name": "ipython",
    "version": 3
   },
   "file_extension": ".py",
   "mimetype": "text/x-python",
   "name": "python",
   "nbconvert_exporter": "python",
   "pygments_lexer": "ipython3",
   "version": "3.11.5"
  }
 },
 "nbformat": 4,
 "nbformat_minor": 5
}
